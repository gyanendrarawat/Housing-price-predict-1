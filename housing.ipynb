{
 "cells": [
  {
   "cell_type": "code",
   "execution_count": 1,
   "id": "4b5b5a53",
   "metadata": {},
   "outputs": [],
   "source": [
    "import pandas as pd\n",
    "import numpy as np\n",
    "\n",
    "import pickle\n",
    "\n",
    "%matplotlib inline\n",
    "\n",
    "df=pd.read_csv('USA_Housing.csv')\n",
    "\n",
    "x=df[['Avg. Area Income','Avg. Area House Age','Avg. Area Number of Rooms','Avg. Area Number of Bedrooms']]\n",
    "y=df['Price']\n",
    "\n",
    "from sklearn.linear_model import LinearRegression\n",
    "lm=LinearRegression()\n",
    "lm.fit(x,y)\n",
    "\n",
    "pickle.dump(lm, open('model.pkl','wb'))\n"
   ]
  },
  {
   "cell_type": "code",
   "execution_count": 2,
   "id": "d1440abb",
   "metadata": {},
   "outputs": [
    {
     "data": {
      "text/plain": [
       "Avg. Area Income                                                      80055.12605\n",
       "Avg. Area House Age                                                      5.831732\n",
       "Avg. Area Number of Rooms                                                7.170376\n",
       "Avg. Area Number of Bedrooms                                                  6.1\n",
       "Area Population                                                      44973.085978\n",
       "Price                                                                1636080.3904\n",
       "Address                         734 William Turnpike Apt. 785\\nDavidberg, RI 9...\n",
       "Name: 2071, dtype: object"
      ]
     },
     "execution_count": 2,
     "metadata": {},
     "output_type": "execute_result"
    }
   ],
   "source": [
    "df.iloc[2071]"
   ]
  },
  {
   "cell_type": "code",
   "execution_count": 3,
   "id": "77e92c93",
   "metadata": {},
   "outputs": [
    {
     "data": {
      "text/plain": [
       "array([1451158.896134])"
      ]
     },
     "execution_count": 3,
     "metadata": {},
     "output_type": "execute_result"
    }
   ],
   "source": [
    "lm.predict([[80055,5.831732,7,6]])"
   ]
  },
  {
   "cell_type": "code",
   "execution_count": null,
   "id": "b1ea28cd",
   "metadata": {},
   "outputs": [],
   "source": [
    "lm.pr"
   ]
  },
  {
   "cell_type": "code",
   "execution_count": 2,
   "id": "f6f4fc80",
   "metadata": {},
   "outputs": [
    {
     "name": "stdout",
     "output_type": "stream",
     "text": [
      "[1471587.85928226]\n"
     ]
    }
   ],
   "source": [
    "model = pickle.load(open('model.pkl','rb'))\n",
    "print(model.predict([[80055.126,5.83,7.17,6.1]]))"
   ]
  },
  {
   "cell_type": "code",
   "execution_count": null,
   "id": "4c8fdef1",
   "metadata": {},
   "outputs": [],
   "source": []
  }
 ],
 "metadata": {
  "kernelspec": {
   "display_name": "Python 3",
   "language": "python",
   "name": "python3"
  },
  "language_info": {
   "codemirror_mode": {
    "name": "ipython",
    "version": 3
   },
   "file_extension": ".py",
   "mimetype": "text/x-python",
   "name": "python",
   "nbconvert_exporter": "python",
   "pygments_lexer": "ipython3",
   "version": "3.9.5"
  }
 },
 "nbformat": 4,
 "nbformat_minor": 5
}
